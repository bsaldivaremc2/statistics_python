{
 "cells": [
  {
   "cell_type": "code",
   "execution_count": 1,
   "metadata": {},
   "outputs": [],
   "source": [
    "import numpy as np\n",
    "import matplotlib.pyplot as plt\n",
    "import scipy.stats as stats"
   ]
  },
  {
   "cell_type": "markdown",
   "metadata": {},
   "source": [
    "# F distribution  \n",
    "https://docs.scipy.org/doc/scipy/reference/generated/scipy.stats.f.html#scipy.stats.f  \n",
    "\n",
    "## F ratio test  \n"
   ]
  },
  {
   "cell_type": "code",
   "execution_count": 189,
   "metadata": {},
   "outputs": [
    {
     "name": "stdout",
     "output_type": "stream",
     "text": [
      "With a confidence_interval of 95.0% the F statistic critic value is 1.5030638249644699 \n",
      "F statistic that we got from our variances 4.199999999999999\n",
      "The p value associated with our F statistic calculated is 7.414515486610961e-08\n",
      "Reconstructing the F statistic from the p_value: 3.879950064746693\n"
     ]
    }
   ],
   "source": [
    "#help(stats.f) \n",
    "#f.cdf,  Cumulative distribution function <- x : array_like quantiles\n",
    "# probability density function at x, input: x\n",
    "#f.ppf, percent point function, input:q, lower tail probability and dfn' and 'dfd' to degrees of freedom numerator and denominator\n",
    "#survival function\n",
    "\n",
    "confidence_interval = 0.95\n",
    "n1 = 75\n",
    "df1 = n1-1\n",
    "mean1 = 26.056\n",
    "var1 = 0.1345\n",
    "std1 = var1**0.5\n",
    "\n",
    "n2 = 63\n",
    "df2 = n2-1\n",
    "mean2 = 22.546\n",
    "var2 = 0.5649\n",
    "std2 = var2**0.5\n",
    "\n",
    "dfn = max(df1,df2)\n",
    "dfd = min(df1,df2)\n",
    "\n",
    "#Lower tail probability is the H0, null hyphotesis probability\n",
    "F_critic = stats.f.ppf(confidence_interval,dfn=dfn,dfd=dfd)\n",
    "print(\"With a confidence_interval of {}% the F statistic critic value is {} \".format(confidence_interval*100,F_critic)) \n",
    "F = max(var1,var2)/min(var1,var2)\n",
    "print(\"F statistic that we got from our variances {}\".format(F))\n",
    "\n",
    "p_value = stats.f.pdf(F,dfn=dfn,dfd=dfd) #alpha level, error-I rate\n",
    "print(\"The p value associated with our F statistic calculated is {}\".format(p_value))\n",
    "\n",
    "F_reconstructed = stats.f.ppf(1-p_value,dfn=dfn,dfd=dfd)\n",
    "print(\"Reconstructing the F statistic from the p_value: {}\".format(F_reconstructed))\n"
   ]
  },
  {
   "cell_type": "markdown",
   "metadata": {},
   "source": [
    "## Creating a function to test two samples"
   ]
  },
  {
   "cell_type": "code",
   "execution_count": 190,
   "metadata": {},
   "outputs": [
    {
     "data": {
      "image/png": "[encoded data removed]",
      "text/plain": [
       "<Figure size 432x288 with 1 Axes>"
      ]
     },
     "metadata": {},
     "output_type": "display_data"
    },
    {
     "name": "stdout",
     "output_type": "stream",
     "text": [
      "With a confidence_interval of 95.0% the F statistic critic value is 1.5030638249644699 \n",
      "F statistic that we got from our variances 4.199999999999999\n",
      "The p value associated with our F statistic calculated is 7.414515486610961e-08\n",
      "Reconstructing the F statistic from the p_value: 3.879950064746693\n"
     ]
    }
   ],
   "source": [
    "def f_ratio(s1,s2):\n",
    "    v1,v2 = np.var(s1),np.var(s2)\n",
    "    n1,n2 = s1.size,s2.size\n",
    "    df1,df2 = n1-1,n2-1\n",
    "    dfn = max(df1,df2)\n",
    "    dfd = min(df1,df2)\n",
    "    #Lower tail probability is the H0, null hyphotesis probability\n",
    "    F_critic = stats.f.ppf(confidence_interval,dfn=dfn,dfd=dfd)\n",
    "    print(\"With a confidence_interval of {}% the F statistic critic value is {} \".format(confidence_interval*100,F_critic)) \n",
    "    F = max(var1,var2)/min(var1,var2)\n",
    "    print(\"F statistic that we got from our variances {}\".format(F))\n",
    "    p_value = stats.f.pdf(F,dfn=dfn,dfd=dfd) #alpha level, error-I rate\n",
    "    print(\"The p value associated with our F statistic calculated is {}\".format(p_value))\n",
    "    F_reconstructed = stats.f.ppf(1-p_value,dfn=dfn,dfd=dfd)\n",
    "    print(\"Reconstructing the F statistic from the p_value: {}\".format(F_reconstructed))\n",
    "\n",
    "\n",
    "\n",
    "#Creats a normal distribution with mean=mean1, std=std1,size= n1\n",
    "sample1 = np.random.normal(loc=mean1,scale=std1,size=(n1))\n",
    "sample2 = np.random.normal(loc=mean2,scale=std2,size=(n2))\n",
    "bins = int(round(min(n1,n2)/1.5))\n",
    "plt.hist(sample1,bins=bins,color=\"red\",alpha=0.5,label=\"sample1\")\n",
    "plt.hist(sample2,bins=bins,color=\"blue\",alpha=0.5,label=\"sample2\")\n",
    "plt.legend()\n",
    "plt.xlabel('Values distribution')\n",
    "plt.ylabel('Frequency of values')\n",
    "plt.show()\n",
    "\n",
    "f_ratio(sample1,sample2)\n"
   ]
  }
 ],
 "metadata": {
  "kernelspec": {
   "display_name": "py35",
   "language": "python",
   "name": "py35"
  },
  "language_info": {
   "codemirror_mode": {
    "name": "ipython",
    "version": 3
   },
   "file_extension": ".py",
   "mimetype": "text/x-python",
   "name": "python",
   "nbconvert_exporter": "python",
   "pygments_lexer": "ipython3",
   "version": "3.5.5"
  }
 },
 "nbformat": 4,
 "nbformat_minor": 2
}
